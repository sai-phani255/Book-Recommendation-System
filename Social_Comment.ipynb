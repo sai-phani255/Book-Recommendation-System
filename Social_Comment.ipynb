{
  "nbformat": 4,
  "nbformat_minor": 0,
  "metadata": {
    "colab": {
      "name": "Social Comment.ipynb",
      "provenance": [],
      "collapsed_sections": [],
      "authorship_tag": "ABX9TyNYZhRdR5Vlx4BbCspfv8/y",
      "include_colab_link": true
    },
    "kernelspec": {
      "name": "python3",
      "display_name": "Python 3"
    },
    "language_info": {
      "name": "python"
    }
  },
  "cells": [
    {
      "cell_type": "markdown",
      "metadata": {
        "id": "view-in-github",
        "colab_type": "text"
      },
      "source": [
        "<a href=\"https://colab.research.google.com/github/sai-phani255/Book-Recommendation-System/blob/master/Social_Comment.ipynb\" target=\"_parent\"><img src=\"https://colab.research.google.com/assets/colab-badge.svg\" alt=\"Open In Colab\"/></a>"
      ]
    },
    {
      "cell_type": "markdown",
      "metadata": {
        "id": "03bl7ubu5UmP"
      },
      "source": [
        "#**CONTENT BASED POST RECOMMENDATION SYSTEM**\n",
        "\n",
        "This system is entirely different from the Content Based Movie Recommendation System.In the Movie Recommendation system we only have to recommend the names of the movies.\n",
        "So for movie recommendation system we have to give the exact name of the movie.\n",
        "\n",
        "But in **Post Recommendation System**, posts related to the **given word** are also to be recommended by the system, even if the word is not present in the dataset.So in this type of recommendation system, each and every word plays an important role.\n",
        "\n",
        "\n",
        "So I tried to implement this idea. For that I have used Lemmatization, so that we can get the exact root word."
      ]
    },
    {
      "cell_type": "markdown",
      "metadata": {
        "id": "qww5QlGlJysd"
      },
      "source": [
        "#**DATA COLLECTION**"
      ]
    },
    {
      "cell_type": "code",
      "metadata": {
        "colab": {
          "base_uri": "https://localhost:8080/"
        },
        "id": "6dx-v2QB6kut",
        "outputId": "744d1307-dfcf-42fa-fb1c-b66d351164d6"
      },
      "source": [
        "from google.colab import drive\n",
        "drive.mount('/content/drive')"
      ],
      "execution_count": 1,
      "outputs": [
        {
          "output_type": "stream",
          "text": [
            "Mounted at /content/drive\n"
          ],
          "name": "stdout"
        }
      ]
    },
    {
      "cell_type": "code",
      "metadata": {
        "id": "ie7D_UNI6m37"
      },
      "source": [
        "import pandas as pd\n",
        "import numpy as np\n",
        "\n",
        "views_data = pd.read_csv('/content/drive/MyDrive/MLdata/views.csv')\n",
        "users_data = pd.read_csv('/content/drive/MyDrive/MLdata/users.csv')\n",
        "posts_data = pd.read_csv('/content/drive/MyDrive/MLdata/posts.csv')"
      ],
      "execution_count": 3,
      "outputs": []
    },
    {
      "cell_type": "code",
      "metadata": {
        "colab": {
          "base_uri": "https://localhost:8080/"
        },
        "id": "kHVA_DuoEWnW",
        "outputId": "2e49c115-04a5-44dc-fdf6-40f6d3b7ee10"
      },
      "source": [
        "print(\"Views Data\",views_data.shape)\n",
        "print(\"Users Data\",users_data.shape)\n",
        "print(\"Posts Data\",posts_data.shape)"
      ],
      "execution_count": 4,
      "outputs": [
        {
          "output_type": "stream",
          "text": [
            "Views Data (1449, 3)\n",
            "Users Data (118, 4)\n",
            "Posts Data (493, 4)\n"
          ],
          "name": "stdout"
        }
      ]
    },
    {
      "cell_type": "code",
      "metadata": {
        "colab": {
          "base_uri": "https://localhost:8080/",
          "height": 204
        },
        "id": "armideeGAGY_",
        "outputId": "5d44d7eb-efc9-40dc-bc53-ba05bf48ae98"
      },
      "source": [
        "views_data.head()"
      ],
      "execution_count": 5,
      "outputs": [
        {
          "output_type": "execute_result",
          "data": {
            "text/html": [
              "<div>\n",
              "<style scoped>\n",
              "    .dataframe tbody tr th:only-of-type {\n",
              "        vertical-align: middle;\n",
              "    }\n",
              "\n",
              "    .dataframe tbody tr th {\n",
              "        vertical-align: top;\n",
              "    }\n",
              "\n",
              "    .dataframe thead th {\n",
              "        text-align: right;\n",
              "    }\n",
              "</style>\n",
              "<table border=\"1\" class=\"dataframe\">\n",
              "  <thead>\n",
              "    <tr style=\"text-align: right;\">\n",
              "      <th></th>\n",
              "      <th>user_id</th>\n",
              "      <th>post_id</th>\n",
              "      <th>timestamp</th>\n",
              "    </tr>\n",
              "  </thead>\n",
              "  <tbody>\n",
              "    <tr>\n",
              "      <th>0</th>\n",
              "      <td>5df49b32cc709107827fb3c7</td>\n",
              "      <td>5ec821ddec493f4a2655889e</td>\n",
              "      <td>2020-06-01T10:46:45.131Z</td>\n",
              "    </tr>\n",
              "    <tr>\n",
              "      <th>1</th>\n",
              "      <td>5ed3748576027d35905ccaab</td>\n",
              "      <td>5ed4cbadbd514d602c1531a6</td>\n",
              "      <td>2020-06-01T09:39:20.021Z</td>\n",
              "    </tr>\n",
              "    <tr>\n",
              "      <th>2</th>\n",
              "      <td>5ed0defa76027d35905cc2de</td>\n",
              "      <td>5eac305f10426255a7aa9dd3</td>\n",
              "      <td>2020-06-01T08:12:42.682Z</td>\n",
              "    </tr>\n",
              "    <tr>\n",
              "      <th>3</th>\n",
              "      <td>5ed0defa76027d35905cc2de</td>\n",
              "      <td>5ed1ff0276027d35905cc60d</td>\n",
              "      <td>2020-06-01T08:10:23.880Z</td>\n",
              "    </tr>\n",
              "    <tr>\n",
              "      <th>4</th>\n",
              "      <td>5ed0defa76027d35905cc2de</td>\n",
              "      <td>5ed3820f76027d35905ccac8</td>\n",
              "      <td>2020-06-01T08:08:54.124Z</td>\n",
              "    </tr>\n",
              "  </tbody>\n",
              "</table>\n",
              "</div>"
            ],
            "text/plain": [
              "                    user_id                   post_id                 timestamp\n",
              "0  5df49b32cc709107827fb3c7  5ec821ddec493f4a2655889e  2020-06-01T10:46:45.131Z\n",
              "1  5ed3748576027d35905ccaab  5ed4cbadbd514d602c1531a6  2020-06-01T09:39:20.021Z\n",
              "2  5ed0defa76027d35905cc2de  5eac305f10426255a7aa9dd3  2020-06-01T08:12:42.682Z\n",
              "3  5ed0defa76027d35905cc2de  5ed1ff0276027d35905cc60d  2020-06-01T08:10:23.880Z\n",
              "4  5ed0defa76027d35905cc2de  5ed3820f76027d35905ccac8  2020-06-01T08:08:54.124Z"
            ]
          },
          "metadata": {
            "tags": []
          },
          "execution_count": 5
        }
      ]
    },
    {
      "cell_type": "code",
      "metadata": {
        "colab": {
          "base_uri": "https://localhost:8080/"
        },
        "id": "fo689KDCIT3o",
        "outputId": "0182049f-5f6a-4f88-d7ba-abf964b62fd1"
      },
      "source": [
        "views_data.isnull().sum()"
      ],
      "execution_count": 6,
      "outputs": [
        {
          "output_type": "execute_result",
          "data": {
            "text/plain": [
              "user_id      0\n",
              "post_id      0\n",
              "timestamp    0\n",
              "dtype: int64"
            ]
          },
          "metadata": {
            "tags": []
          },
          "execution_count": 6
        }
      ]
    },
    {
      "cell_type": "code",
      "metadata": {
        "colab": {
          "base_uri": "https://localhost:8080/",
          "height": 204
        },
        "id": "P6xgWuwXArlh",
        "outputId": "8abe82da-2d06-4d78-d44b-e8d1e675647b"
      },
      "source": [
        "users_data.head()"
      ],
      "execution_count": 7,
      "outputs": [
        {
          "output_type": "execute_result",
          "data": {
            "text/html": [
              "<div>\n",
              "<style scoped>\n",
              "    .dataframe tbody tr th:only-of-type {\n",
              "        vertical-align: middle;\n",
              "    }\n",
              "\n",
              "    .dataframe tbody tr th {\n",
              "        vertical-align: top;\n",
              "    }\n",
              "\n",
              "    .dataframe thead th {\n",
              "        text-align: right;\n",
              "    }\n",
              "</style>\n",
              "<table border=\"1\" class=\"dataframe\">\n",
              "  <thead>\n",
              "    <tr style=\"text-align: right;\">\n",
              "      <th></th>\n",
              "      <th>_id</th>\n",
              "      <th>name</th>\n",
              "      <th>gender</th>\n",
              "      <th>academics</th>\n",
              "    </tr>\n",
              "  </thead>\n",
              "  <tbody>\n",
              "    <tr>\n",
              "      <th>0</th>\n",
              "      <td>5d60098a653a331687083238</td>\n",
              "      <td>Nivesh Singh Chauhan</td>\n",
              "      <td>male</td>\n",
              "      <td>undergraduate</td>\n",
              "    </tr>\n",
              "    <tr>\n",
              "      <th>1</th>\n",
              "      <td>5d610ae1653a331687083239</td>\n",
              "      <td>Gaurav Sharma</td>\n",
              "      <td>male</td>\n",
              "      <td>graduate</td>\n",
              "    </tr>\n",
              "    <tr>\n",
              "      <th>2</th>\n",
              "      <td>5d618359fc5fcf3bdd9a0910</td>\n",
              "      <td>Akshay Mishra</td>\n",
              "      <td>male</td>\n",
              "      <td>undergraduate</td>\n",
              "    </tr>\n",
              "    <tr>\n",
              "      <th>3</th>\n",
              "      <td>5d6d2bb87fa40e1417a49315</td>\n",
              "      <td>Saksham Mathur</td>\n",
              "      <td>male</td>\n",
              "      <td>undergraduate</td>\n",
              "    </tr>\n",
              "    <tr>\n",
              "      <th>4</th>\n",
              "      <td>5d7c994d5720533e15c3b1e9</td>\n",
              "      <td>Varun Chowhan</td>\n",
              "      <td>male</td>\n",
              "      <td>undergraduate</td>\n",
              "    </tr>\n",
              "  </tbody>\n",
              "</table>\n",
              "</div>"
            ],
            "text/plain": [
              "                        _id                  name gender      academics\n",
              "0  5d60098a653a331687083238  Nivesh Singh Chauhan   male  undergraduate\n",
              "1  5d610ae1653a331687083239         Gaurav Sharma   male       graduate\n",
              "2  5d618359fc5fcf3bdd9a0910         Akshay Mishra   male  undergraduate\n",
              "3  5d6d2bb87fa40e1417a49315        Saksham Mathur   male  undergraduate\n",
              "4  5d7c994d5720533e15c3b1e9         Varun Chowhan   male  undergraduate"
            ]
          },
          "metadata": {
            "tags": []
          },
          "execution_count": 7
        }
      ]
    },
    {
      "cell_type": "code",
      "metadata": {
        "colab": {
          "base_uri": "https://localhost:8080/"
        },
        "id": "DG2lsip7IaNl",
        "outputId": "1f3f25d0-d806-4686-c6fc-732d6cf5bf1a"
      },
      "source": [
        "users_data.isnull().sum()"
      ],
      "execution_count": 8,
      "outputs": [
        {
          "output_type": "execute_result",
          "data": {
            "text/plain": [
              "_id          0\n",
              "name         0\n",
              "gender       0\n",
              "academics    0\n",
              "dtype: int64"
            ]
          },
          "metadata": {
            "tags": []
          },
          "execution_count": 8
        }
      ]
    },
    {
      "cell_type": "code",
      "metadata": {
        "colab": {
          "base_uri": "https://localhost:8080/",
          "height": 204
        },
        "id": "zW6wGSfGAwbu",
        "outputId": "4c5a10a5-ec78-4fcd-f230-1072f1f1e2fc"
      },
      "source": [
        "posts_data.head()"
      ],
      "execution_count": 9,
      "outputs": [
        {
          "output_type": "execute_result",
          "data": {
            "text/html": [
              "<div>\n",
              "<style scoped>\n",
              "    .dataframe tbody tr th:only-of-type {\n",
              "        vertical-align: middle;\n",
              "    }\n",
              "\n",
              "    .dataframe tbody tr th {\n",
              "        vertical-align: top;\n",
              "    }\n",
              "\n",
              "    .dataframe thead th {\n",
              "        text-align: right;\n",
              "    }\n",
              "</style>\n",
              "<table border=\"1\" class=\"dataframe\">\n",
              "  <thead>\n",
              "    <tr style=\"text-align: right;\">\n",
              "      <th></th>\n",
              "      <th>_id</th>\n",
              "      <th>title</th>\n",
              "      <th>category</th>\n",
              "      <th>post_type</th>\n",
              "    </tr>\n",
              "  </thead>\n",
              "  <tbody>\n",
              "    <tr>\n",
              "      <th>0</th>\n",
              "      <td>5d62abaa65218653a132c956</td>\n",
              "      <td>hello there</td>\n",
              "      <td>Plant Biotechnology</td>\n",
              "      <td>blog</td>\n",
              "    </tr>\n",
              "    <tr>\n",
              "      <th>1</th>\n",
              "      <td>5d6d39567fa40e1417a4931c</td>\n",
              "      <td>Ml and AI</td>\n",
              "      <td>Artificial Intelligence|Machine Learning|Infor...</td>\n",
              "      <td>blog</td>\n",
              "    </tr>\n",
              "    <tr>\n",
              "      <th>2</th>\n",
              "      <td>5d7d23315720533e15c3b1ee</td>\n",
              "      <td>What is an Operating System ?</td>\n",
              "      <td>Operating Systems</td>\n",
              "      <td>blog</td>\n",
              "    </tr>\n",
              "    <tr>\n",
              "      <th>3</th>\n",
              "      <td>5d7d405e5720533e15c3b1f3</td>\n",
              "      <td>Lord Shiva</td>\n",
              "      <td>Drawings</td>\n",
              "      <td>artwork</td>\n",
              "    </tr>\n",
              "    <tr>\n",
              "      <th>4</th>\n",
              "      <td>5d80dfbc6c53455f896e600e</td>\n",
              "      <td>How Competition law evolved?</td>\n",
              "      <td>Competition Laws</td>\n",
              "      <td>blog</td>\n",
              "    </tr>\n",
              "  </tbody>\n",
              "</table>\n",
              "</div>"
            ],
            "text/plain": [
              "                        _id  ...  post_type\n",
              "0  5d62abaa65218653a132c956  ...       blog\n",
              "1  5d6d39567fa40e1417a4931c  ...       blog\n",
              "2  5d7d23315720533e15c3b1ee  ...       blog\n",
              "3  5d7d405e5720533e15c3b1f3  ...    artwork\n",
              "4  5d80dfbc6c53455f896e600e  ...       blog\n",
              "\n",
              "[5 rows x 4 columns]"
            ]
          },
          "metadata": {
            "tags": []
          },
          "execution_count": 9
        }
      ]
    },
    {
      "cell_type": "code",
      "metadata": {
        "colab": {
          "base_uri": "https://localhost:8080/"
        },
        "id": "991vV3kEIe4J",
        "outputId": "dca8dbb0-b069-4424-b161-4ce8d4146b75"
      },
      "source": [
        "posts_data.isnull().sum()"
      ],
      "execution_count": 10,
      "outputs": [
        {
          "output_type": "execute_result",
          "data": {
            "text/plain": [
              "_id            0\n",
              "title          0\n",
              "category      28\n",
              " post_type     0\n",
              "dtype: int64"
            ]
          },
          "metadata": {
            "tags": []
          },
          "execution_count": 10
        }
      ]
    },
    {
      "cell_type": "code",
      "metadata": {
        "id": "I8nOmzNbA0CO"
      },
      "source": [
        "views_data = views_data.drop(['timestamp'],axis=1)"
      ],
      "execution_count": 11,
      "outputs": []
    },
    {
      "cell_type": "code",
      "metadata": {
        "id": "Hv1b-pzs2ODi"
      },
      "source": [
        "posts_data.rename(columns={'_id': 'post_id', ' post_type': 'post_type'}, inplace=True)\n",
        "users_data.rename(columns={'_id': 'user_id'}, inplace=True)\n",
        "posts_data.category = posts_data.category.fillna('')"
      ],
      "execution_count": 12,
      "outputs": []
    },
    {
      "cell_type": "code",
      "metadata": {
        "id": "gN8Pp4Lw2OGR"
      },
      "source": [
        "Req_data = pd.merge(views_data,users_data ,on ='user_id')\n",
        "Req_data = pd.merge(Req_data, posts_data, on='post_id')"
      ],
      "execution_count": 13,
      "outputs": []
    },
    {
      "cell_type": "code",
      "metadata": {
        "colab": {
          "base_uri": "https://localhost:8080/",
          "height": 204
        },
        "id": "o5MSJX4WHgds",
        "outputId": "1107f84c-8be8-4386-b3da-ff923fc2563f"
      },
      "source": [
        "Req_data.head()"
      ],
      "execution_count": 14,
      "outputs": [
        {
          "output_type": "execute_result",
          "data": {
            "text/html": [
              "<div>\n",
              "<style scoped>\n",
              "    .dataframe tbody tr th:only-of-type {\n",
              "        vertical-align: middle;\n",
              "    }\n",
              "\n",
              "    .dataframe tbody tr th {\n",
              "        vertical-align: top;\n",
              "    }\n",
              "\n",
              "    .dataframe thead th {\n",
              "        text-align: right;\n",
              "    }\n",
              "</style>\n",
              "<table border=\"1\" class=\"dataframe\">\n",
              "  <thead>\n",
              "    <tr style=\"text-align: right;\">\n",
              "      <th></th>\n",
              "      <th>user_id</th>\n",
              "      <th>post_id</th>\n",
              "      <th>name</th>\n",
              "      <th>gender</th>\n",
              "      <th>academics</th>\n",
              "      <th>title</th>\n",
              "      <th>category</th>\n",
              "      <th>post_type</th>\n",
              "    </tr>\n",
              "  </thead>\n",
              "  <tbody>\n",
              "    <tr>\n",
              "      <th>0</th>\n",
              "      <td>5df49b32cc709107827fb3c7</td>\n",
              "      <td>5ec821ddec493f4a2655889e</td>\n",
              "      <td>Niriksha Sharma</td>\n",
              "      <td>female</td>\n",
              "      <td>undergraduate</td>\n",
              "      <td>Save Earth.</td>\n",
              "      <td>Visual Arts|Graphic Design|Artistic design|Gra...</td>\n",
              "      <td>artwork</td>\n",
              "    </tr>\n",
              "    <tr>\n",
              "      <th>1</th>\n",
              "      <td>5d7c994d5720533e15c3b1e9</td>\n",
              "      <td>5ec821ddec493f4a2655889e</td>\n",
              "      <td>Varun Chowhan</td>\n",
              "      <td>male</td>\n",
              "      <td>undergraduate</td>\n",
              "      <td>Save Earth.</td>\n",
              "      <td>Visual Arts|Graphic Design|Artistic design|Gra...</td>\n",
              "      <td>artwork</td>\n",
              "    </tr>\n",
              "    <tr>\n",
              "      <th>2</th>\n",
              "      <td>5e5af599d701ab08af792b63</td>\n",
              "      <td>5ec821ddec493f4a2655889e</td>\n",
              "      <td>Ilupeju Ayokunnumi</td>\n",
              "      <td>female</td>\n",
              "      <td>graduate</td>\n",
              "      <td>Save Earth.</td>\n",
              "      <td>Visual Arts|Graphic Design|Artistic design|Gra...</td>\n",
              "      <td>artwork</td>\n",
              "    </tr>\n",
              "    <tr>\n",
              "      <th>3</th>\n",
              "      <td>5de50d768eab6401affbb135</td>\n",
              "      <td>5ec821ddec493f4a2655889e</td>\n",
              "      <td>thesocialcomment</td>\n",
              "      <td>male</td>\n",
              "      <td>graduate</td>\n",
              "      <td>Save Earth.</td>\n",
              "      <td>Visual Arts|Graphic Design|Artistic design|Gra...</td>\n",
              "      <td>artwork</td>\n",
              "    </tr>\n",
              "    <tr>\n",
              "      <th>4</th>\n",
              "      <td>5deeef6142a8854bf6eabab9</td>\n",
              "      <td>5ec821ddec493f4a2655889e</td>\n",
              "      <td>siddharth saxena</td>\n",
              "      <td>male</td>\n",
              "      <td>undergraduate</td>\n",
              "      <td>Save Earth.</td>\n",
              "      <td>Visual Arts|Graphic Design|Artistic design|Gra...</td>\n",
              "      <td>artwork</td>\n",
              "    </tr>\n",
              "  </tbody>\n",
              "</table>\n",
              "</div>"
            ],
            "text/plain": [
              "                    user_id  ... post_type\n",
              "0  5df49b32cc709107827fb3c7  ...   artwork\n",
              "1  5d7c994d5720533e15c3b1e9  ...   artwork\n",
              "2  5e5af599d701ab08af792b63  ...   artwork\n",
              "3  5de50d768eab6401affbb135  ...   artwork\n",
              "4  5deeef6142a8854bf6eabab9  ...   artwork\n",
              "\n",
              "[5 rows x 8 columns]"
            ]
          },
          "metadata": {
            "tags": []
          },
          "execution_count": 14
        }
      ]
    },
    {
      "cell_type": "code",
      "metadata": {
        "colab": {
          "base_uri": "https://localhost:8080/"
        },
        "id": "dbFFhd4gHklw",
        "outputId": "40d92fa3-2d3c-4ce4-b132-c33932617502"
      },
      "source": [
        "Req_data.shape"
      ],
      "execution_count": 15,
      "outputs": [
        {
          "output_type": "execute_result",
          "data": {
            "text/plain": [
              "(1447, 8)"
            ]
          },
          "metadata": {
            "tags": []
          },
          "execution_count": 15
        }
      ]
    },
    {
      "cell_type": "code",
      "metadata": {
        "colab": {
          "base_uri": "https://localhost:8080/"
        },
        "id": "BLL9zCv8H26F",
        "outputId": "54b9e3bb-10ac-4b36-84d1-1faf54fc9f76"
      },
      "source": [
        "Req_data.isnull().sum()"
      ],
      "execution_count": 16,
      "outputs": [
        {
          "output_type": "execute_result",
          "data": {
            "text/plain": [
              "user_id      0\n",
              "post_id      0\n",
              "name         0\n",
              "gender       0\n",
              "academics    0\n",
              "title        0\n",
              "category     0\n",
              "post_type    0\n",
              "dtype: int64"
            ]
          },
          "metadata": {
            "tags": []
          },
          "execution_count": 16
        }
      ]
    },
    {
      "cell_type": "code",
      "metadata": {
        "id": "zrlUna7zUnLj"
      },
      "source": [
        "# Replacing the null values with space because category is textual data\n",
        "Req_data.category = Req_data.category.fillna('')"
      ],
      "execution_count": 17,
      "outputs": []
    },
    {
      "cell_type": "code",
      "metadata": {
        "colab": {
          "base_uri": "https://localhost:8080/"
        },
        "id": "SfOlYywLU5Zb",
        "outputId": "ebafc96e-2eb8-45b2-fb08-391d66188fe2"
      },
      "source": [
        "Req_data.isnull().sum()"
      ],
      "execution_count": 18,
      "outputs": [
        {
          "output_type": "execute_result",
          "data": {
            "text/plain": [
              "user_id      0\n",
              "post_id      0\n",
              "name         0\n",
              "gender       0\n",
              "academics    0\n",
              "title        0\n",
              "category     0\n",
              "post_type    0\n",
              "dtype: int64"
            ]
          },
          "metadata": {
            "tags": []
          },
          "execution_count": 18
        }
      ]
    },
    {
      "cell_type": "markdown",
      "metadata": {
        "id": "GBJknlYVKE4d"
      },
      "source": [
        "#**DATA PREPOCESSING**"
      ]
    },
    {
      "cell_type": "code",
      "metadata": {
        "colab": {
          "base_uri": "https://localhost:8080/",
          "height": 204
        },
        "id": "SRgS8QxoH6A5",
        "outputId": "fca9f40e-3620-471c-da45-2394b3f52eef"
      },
      "source": [
        "Req_data.head()"
      ],
      "execution_count": 19,
      "outputs": [
        {
          "output_type": "execute_result",
          "data": {
            "text/html": [
              "<div>\n",
              "<style scoped>\n",
              "    .dataframe tbody tr th:only-of-type {\n",
              "        vertical-align: middle;\n",
              "    }\n",
              "\n",
              "    .dataframe tbody tr th {\n",
              "        vertical-align: top;\n",
              "    }\n",
              "\n",
              "    .dataframe thead th {\n",
              "        text-align: right;\n",
              "    }\n",
              "</style>\n",
              "<table border=\"1\" class=\"dataframe\">\n",
              "  <thead>\n",
              "    <tr style=\"text-align: right;\">\n",
              "      <th></th>\n",
              "      <th>user_id</th>\n",
              "      <th>post_id</th>\n",
              "      <th>name</th>\n",
              "      <th>gender</th>\n",
              "      <th>academics</th>\n",
              "      <th>title</th>\n",
              "      <th>category</th>\n",
              "      <th>post_type</th>\n",
              "    </tr>\n",
              "  </thead>\n",
              "  <tbody>\n",
              "    <tr>\n",
              "      <th>0</th>\n",
              "      <td>5df49b32cc709107827fb3c7</td>\n",
              "      <td>5ec821ddec493f4a2655889e</td>\n",
              "      <td>Niriksha Sharma</td>\n",
              "      <td>female</td>\n",
              "      <td>undergraduate</td>\n",
              "      <td>Save Earth.</td>\n",
              "      <td>Visual Arts|Graphic Design|Artistic design|Gra...</td>\n",
              "      <td>artwork</td>\n",
              "    </tr>\n",
              "    <tr>\n",
              "      <th>1</th>\n",
              "      <td>5d7c994d5720533e15c3b1e9</td>\n",
              "      <td>5ec821ddec493f4a2655889e</td>\n",
              "      <td>Varun Chowhan</td>\n",
              "      <td>male</td>\n",
              "      <td>undergraduate</td>\n",
              "      <td>Save Earth.</td>\n",
              "      <td>Visual Arts|Graphic Design|Artistic design|Gra...</td>\n",
              "      <td>artwork</td>\n",
              "    </tr>\n",
              "    <tr>\n",
              "      <th>2</th>\n",
              "      <td>5e5af599d701ab08af792b63</td>\n",
              "      <td>5ec821ddec493f4a2655889e</td>\n",
              "      <td>Ilupeju Ayokunnumi</td>\n",
              "      <td>female</td>\n",
              "      <td>graduate</td>\n",
              "      <td>Save Earth.</td>\n",
              "      <td>Visual Arts|Graphic Design|Artistic design|Gra...</td>\n",
              "      <td>artwork</td>\n",
              "    </tr>\n",
              "    <tr>\n",
              "      <th>3</th>\n",
              "      <td>5de50d768eab6401affbb135</td>\n",
              "      <td>5ec821ddec493f4a2655889e</td>\n",
              "      <td>thesocialcomment</td>\n",
              "      <td>male</td>\n",
              "      <td>graduate</td>\n",
              "      <td>Save Earth.</td>\n",
              "      <td>Visual Arts|Graphic Design|Artistic design|Gra...</td>\n",
              "      <td>artwork</td>\n",
              "    </tr>\n",
              "    <tr>\n",
              "      <th>4</th>\n",
              "      <td>5deeef6142a8854bf6eabab9</td>\n",
              "      <td>5ec821ddec493f4a2655889e</td>\n",
              "      <td>siddharth saxena</td>\n",
              "      <td>male</td>\n",
              "      <td>undergraduate</td>\n",
              "      <td>Save Earth.</td>\n",
              "      <td>Visual Arts|Graphic Design|Artistic design|Gra...</td>\n",
              "      <td>artwork</td>\n",
              "    </tr>\n",
              "  </tbody>\n",
              "</table>\n",
              "</div>"
            ],
            "text/plain": [
              "                    user_id  ... post_type\n",
              "0  5df49b32cc709107827fb3c7  ...   artwork\n",
              "1  5d7c994d5720533e15c3b1e9  ...   artwork\n",
              "2  5e5af599d701ab08af792b63  ...   artwork\n",
              "3  5de50d768eab6401affbb135  ...   artwork\n",
              "4  5deeef6142a8854bf6eabab9  ...   artwork\n",
              "\n",
              "[5 rows x 8 columns]"
            ]
          },
          "metadata": {
            "tags": []
          },
          "execution_count": 19
        }
      ]
    },
    {
      "cell_type": "markdown",
      "metadata": {
        "id": "hBm8ku8ZKgUT"
      },
      "source": [
        "Now there is no use user_id , post_id and name. So droping those columns\n"
      ]
    },
    {
      "cell_type": "code",
      "metadata": {
        "id": "uHLKBPT5KdRG"
      },
      "source": [
        "Req_data = Req_data.drop(['user_id','post_id','name'],axis=1)"
      ],
      "execution_count": 20,
      "outputs": []
    },
    {
      "cell_type": "code",
      "metadata": {
        "colab": {
          "base_uri": "https://localhost:8080/",
          "height": 204
        },
        "id": "5mi-4MqaL86a",
        "outputId": "4f2d5a8b-16d5-4747-a5e3-c0b4b4006795"
      },
      "source": [
        "Req_data.head()"
      ],
      "execution_count": 21,
      "outputs": [
        {
          "output_type": "execute_result",
          "data": {
            "text/html": [
              "<div>\n",
              "<style scoped>\n",
              "    .dataframe tbody tr th:only-of-type {\n",
              "        vertical-align: middle;\n",
              "    }\n",
              "\n",
              "    .dataframe tbody tr th {\n",
              "        vertical-align: top;\n",
              "    }\n",
              "\n",
              "    .dataframe thead th {\n",
              "        text-align: right;\n",
              "    }\n",
              "</style>\n",
              "<table border=\"1\" class=\"dataframe\">\n",
              "  <thead>\n",
              "    <tr style=\"text-align: right;\">\n",
              "      <th></th>\n",
              "      <th>gender</th>\n",
              "      <th>academics</th>\n",
              "      <th>title</th>\n",
              "      <th>category</th>\n",
              "      <th>post_type</th>\n",
              "    </tr>\n",
              "  </thead>\n",
              "  <tbody>\n",
              "    <tr>\n",
              "      <th>0</th>\n",
              "      <td>female</td>\n",
              "      <td>undergraduate</td>\n",
              "      <td>Save Earth.</td>\n",
              "      <td>Visual Arts|Graphic Design|Artistic design|Gra...</td>\n",
              "      <td>artwork</td>\n",
              "    </tr>\n",
              "    <tr>\n",
              "      <th>1</th>\n",
              "      <td>male</td>\n",
              "      <td>undergraduate</td>\n",
              "      <td>Save Earth.</td>\n",
              "      <td>Visual Arts|Graphic Design|Artistic design|Gra...</td>\n",
              "      <td>artwork</td>\n",
              "    </tr>\n",
              "    <tr>\n",
              "      <th>2</th>\n",
              "      <td>female</td>\n",
              "      <td>graduate</td>\n",
              "      <td>Save Earth.</td>\n",
              "      <td>Visual Arts|Graphic Design|Artistic design|Gra...</td>\n",
              "      <td>artwork</td>\n",
              "    </tr>\n",
              "    <tr>\n",
              "      <th>3</th>\n",
              "      <td>male</td>\n",
              "      <td>graduate</td>\n",
              "      <td>Save Earth.</td>\n",
              "      <td>Visual Arts|Graphic Design|Artistic design|Gra...</td>\n",
              "      <td>artwork</td>\n",
              "    </tr>\n",
              "    <tr>\n",
              "      <th>4</th>\n",
              "      <td>male</td>\n",
              "      <td>undergraduate</td>\n",
              "      <td>Save Earth.</td>\n",
              "      <td>Visual Arts|Graphic Design|Artistic design|Gra...</td>\n",
              "      <td>artwork</td>\n",
              "    </tr>\n",
              "  </tbody>\n",
              "</table>\n",
              "</div>"
            ],
            "text/plain": [
              "   gender  ... post_type\n",
              "0  female  ...   artwork\n",
              "1    male  ...   artwork\n",
              "2  female  ...   artwork\n",
              "3    male  ...   artwork\n",
              "4    male  ...   artwork\n",
              "\n",
              "[5 rows x 5 columns]"
            ]
          },
          "metadata": {
            "tags": []
          },
          "execution_count": 21
        }
      ]
    },
    {
      "cell_type": "code",
      "metadata": {
        "colab": {
          "base_uri": "https://localhost:8080/"
        },
        "id": "SFJTA9bsL-ax",
        "outputId": "f9360279-879e-4f95-df02-270c58a14314"
      },
      "source": [
        "Req_data['academics'].unique()"
      ],
      "execution_count": 22,
      "outputs": [
        {
          "output_type": "execute_result",
          "data": {
            "text/plain": [
              "array(['undergraduate', 'graduate', 'undefined'], dtype=object)"
            ]
          },
          "metadata": {
            "tags": []
          },
          "execution_count": 22
        }
      ]
    },
    {
      "cell_type": "code",
      "metadata": {
        "colab": {
          "base_uri": "https://localhost:8080/"
        },
        "id": "5DjzL1AxdDdS",
        "outputId": "182190f6-de87-428e-bfb3-474eece48a06"
      },
      "source": [
        "Req_data['gender'].unique()"
      ],
      "execution_count": 23,
      "outputs": [
        {
          "output_type": "execute_result",
          "data": {
            "text/plain": [
              "array(['female', 'male', 'undefined'], dtype=object)"
            ]
          },
          "metadata": {
            "tags": []
          },
          "execution_count": 23
        }
      ]
    },
    {
      "cell_type": "code",
      "metadata": {
        "id": "5zkDZ3n_XwTC"
      },
      "source": [
        ""
      ],
      "execution_count": 23,
      "outputs": []
    },
    {
      "cell_type": "code",
      "metadata": {
        "colab": {
          "base_uri": "https://localhost:8080/",
          "height": 173
        },
        "id": "DRIaCsDxdBSN",
        "outputId": "1beb09a8-a023-42de-f19d-ac0d68cae143"
      },
      "source": [
        "Req_data.groupby('gender').count()"
      ],
      "execution_count": 24,
      "outputs": [
        {
          "output_type": "execute_result",
          "data": {
            "text/html": [
              "<div>\n",
              "<style scoped>\n",
              "    .dataframe tbody tr th:only-of-type {\n",
              "        vertical-align: middle;\n",
              "    }\n",
              "\n",
              "    .dataframe tbody tr th {\n",
              "        vertical-align: top;\n",
              "    }\n",
              "\n",
              "    .dataframe thead th {\n",
              "        text-align: right;\n",
              "    }\n",
              "</style>\n",
              "<table border=\"1\" class=\"dataframe\">\n",
              "  <thead>\n",
              "    <tr style=\"text-align: right;\">\n",
              "      <th></th>\n",
              "      <th>academics</th>\n",
              "      <th>title</th>\n",
              "      <th>category</th>\n",
              "      <th>post_type</th>\n",
              "    </tr>\n",
              "    <tr>\n",
              "      <th>gender</th>\n",
              "      <th></th>\n",
              "      <th></th>\n",
              "      <th></th>\n",
              "      <th></th>\n",
              "    </tr>\n",
              "  </thead>\n",
              "  <tbody>\n",
              "    <tr>\n",
              "      <th>female</th>\n",
              "      <td>444</td>\n",
              "      <td>444</td>\n",
              "      <td>444</td>\n",
              "      <td>444</td>\n",
              "    </tr>\n",
              "    <tr>\n",
              "      <th>male</th>\n",
              "      <td>997</td>\n",
              "      <td>997</td>\n",
              "      <td>997</td>\n",
              "      <td>997</td>\n",
              "    </tr>\n",
              "    <tr>\n",
              "      <th>undefined</th>\n",
              "      <td>6</td>\n",
              "      <td>6</td>\n",
              "      <td>6</td>\n",
              "      <td>6</td>\n",
              "    </tr>\n",
              "  </tbody>\n",
              "</table>\n",
              "</div>"
            ],
            "text/plain": [
              "           academics  title  category  post_type\n",
              "gender                                          \n",
              "female           444    444       444        444\n",
              "male             997    997       997        997\n",
              "undefined          6      6         6          6"
            ]
          },
          "metadata": {
            "tags": []
          },
          "execution_count": 24
        }
      ]
    },
    {
      "cell_type": "code",
      "metadata": {
        "colab": {
          "base_uri": "https://localhost:8080/",
          "height": 173
        },
        "id": "f48icimEMXVC",
        "outputId": "567aa566-0bd0-4ec8-fed9-b68e559315e7"
      },
      "source": [
        "Req_data.groupby('academics').count()"
      ],
      "execution_count": 25,
      "outputs": [
        {
          "output_type": "execute_result",
          "data": {
            "text/html": [
              "<div>\n",
              "<style scoped>\n",
              "    .dataframe tbody tr th:only-of-type {\n",
              "        vertical-align: middle;\n",
              "    }\n",
              "\n",
              "    .dataframe tbody tr th {\n",
              "        vertical-align: top;\n",
              "    }\n",
              "\n",
              "    .dataframe thead th {\n",
              "        text-align: right;\n",
              "    }\n",
              "</style>\n",
              "<table border=\"1\" class=\"dataframe\">\n",
              "  <thead>\n",
              "    <tr style=\"text-align: right;\">\n",
              "      <th></th>\n",
              "      <th>gender</th>\n",
              "      <th>title</th>\n",
              "      <th>category</th>\n",
              "      <th>post_type</th>\n",
              "    </tr>\n",
              "    <tr>\n",
              "      <th>academics</th>\n",
              "      <th></th>\n",
              "      <th></th>\n",
              "      <th></th>\n",
              "      <th></th>\n",
              "    </tr>\n",
              "  </thead>\n",
              "  <tbody>\n",
              "    <tr>\n",
              "      <th>graduate</th>\n",
              "      <td>382</td>\n",
              "      <td>382</td>\n",
              "      <td>382</td>\n",
              "      <td>382</td>\n",
              "    </tr>\n",
              "    <tr>\n",
              "      <th>undefined</th>\n",
              "      <td>6</td>\n",
              "      <td>6</td>\n",
              "      <td>6</td>\n",
              "      <td>6</td>\n",
              "    </tr>\n",
              "    <tr>\n",
              "      <th>undergraduate</th>\n",
              "      <td>1059</td>\n",
              "      <td>1059</td>\n",
              "      <td>1059</td>\n",
              "      <td>1059</td>\n",
              "    </tr>\n",
              "  </tbody>\n",
              "</table>\n",
              "</div>"
            ],
            "text/plain": [
              "               gender  title  category  post_type\n",
              "academics                                        \n",
              "graduate          382    382       382        382\n",
              "undefined           6      6         6          6\n",
              "undergraduate    1059   1059      1059       1059"
            ]
          },
          "metadata": {
            "tags": []
          },
          "execution_count": 25
        }
      ]
    },
    {
      "cell_type": "code",
      "metadata": {
        "colab": {
          "base_uri": "https://localhost:8080/"
        },
        "id": "UOs5evWjNKPl",
        "outputId": "7b6ef429-bb2f-4bb8-f539-28689ace5287"
      },
      "source": [
        "len(Req_data['category'].unique())"
      ],
      "execution_count": 26,
      "outputs": [
        {
          "output_type": "execute_result",
          "data": {
            "text/plain": [
              "232"
            ]
          },
          "metadata": {
            "tags": []
          },
          "execution_count": 26
        }
      ]
    },
    {
      "cell_type": "markdown",
      "metadata": {
        "id": "3BSpwC1QemE4"
      },
      "source": [
        "Category feature is textual and categorical.\n",
        "\n",
        "Title feature is textual and is not categorical.\n"
      ]
    },
    {
      "cell_type": "code",
      "metadata": {
        "id": "1vtL4QuFeQEF"
      },
      "source": [
        "Req_data =  Req_data.rename(index=str, columns={\" post_type\":\"post_type\"})"
      ],
      "execution_count": 27,
      "outputs": []
    },
    {
      "cell_type": "code",
      "metadata": {
        "id": "Wov1smwETNM2"
      },
      "source": [
        "# Relpacing the undefined in gender feature to male. Because it is the most occured in the dataset.\n",
        "Req_data.gender = Req_data.gender.replace('undefined','male')"
      ],
      "execution_count": 28,
      "outputs": []
    },
    {
      "cell_type": "code",
      "metadata": {
        "colab": {
          "base_uri": "https://localhost:8080/",
          "height": 142
        },
        "id": "KqDUKkcnT8wf",
        "outputId": "6e24d1e4-0749-459b-8a67-a4d17a94e38c"
      },
      "source": [
        "Req_data.groupby('gender').count()"
      ],
      "execution_count": 29,
      "outputs": [
        {
          "output_type": "execute_result",
          "data": {
            "text/html": [
              "<div>\n",
              "<style scoped>\n",
              "    .dataframe tbody tr th:only-of-type {\n",
              "        vertical-align: middle;\n",
              "    }\n",
              "\n",
              "    .dataframe tbody tr th {\n",
              "        vertical-align: top;\n",
              "    }\n",
              "\n",
              "    .dataframe thead th {\n",
              "        text-align: right;\n",
              "    }\n",
              "</style>\n",
              "<table border=\"1\" class=\"dataframe\">\n",
              "  <thead>\n",
              "    <tr style=\"text-align: right;\">\n",
              "      <th></th>\n",
              "      <th>academics</th>\n",
              "      <th>title</th>\n",
              "      <th>category</th>\n",
              "      <th>post_type</th>\n",
              "    </tr>\n",
              "    <tr>\n",
              "      <th>gender</th>\n",
              "      <th></th>\n",
              "      <th></th>\n",
              "      <th></th>\n",
              "      <th></th>\n",
              "    </tr>\n",
              "  </thead>\n",
              "  <tbody>\n",
              "    <tr>\n",
              "      <th>female</th>\n",
              "      <td>444</td>\n",
              "      <td>444</td>\n",
              "      <td>444</td>\n",
              "      <td>444</td>\n",
              "    </tr>\n",
              "    <tr>\n",
              "      <th>male</th>\n",
              "      <td>1003</td>\n",
              "      <td>1003</td>\n",
              "      <td>1003</td>\n",
              "      <td>1003</td>\n",
              "    </tr>\n",
              "  </tbody>\n",
              "</table>\n",
              "</div>"
            ],
            "text/plain": [
              "        academics  title  category  post_type\n",
              "gender                                       \n",
              "female        444    444       444        444\n",
              "male         1003   1003      1003       1003"
            ]
          },
          "metadata": {
            "tags": []
          },
          "execution_count": 29
        }
      ]
    },
    {
      "cell_type": "code",
      "metadata": {
        "id": "pgLVLrKxT8y7"
      },
      "source": [
        "# Replacing the undefined in the academics feature to undergraduate.Because it is the most occuered in that feature.\n",
        "Req_data.academics = Req_data.academics.replace('undefined','undergraduate')"
      ],
      "execution_count": 30,
      "outputs": []
    },
    {
      "cell_type": "code",
      "metadata": {
        "colab": {
          "base_uri": "https://localhost:8080/",
          "height": 142
        },
        "id": "dbBflgywUXVt",
        "outputId": "686e331d-87d0-46b3-ac36-66e2ffebce5b"
      },
      "source": [
        "Req_data.groupby('academics').count()"
      ],
      "execution_count": 31,
      "outputs": [
        {
          "output_type": "execute_result",
          "data": {
            "text/html": [
              "<div>\n",
              "<style scoped>\n",
              "    .dataframe tbody tr th:only-of-type {\n",
              "        vertical-align: middle;\n",
              "    }\n",
              "\n",
              "    .dataframe tbody tr th {\n",
              "        vertical-align: top;\n",
              "    }\n",
              "\n",
              "    .dataframe thead th {\n",
              "        text-align: right;\n",
              "    }\n",
              "</style>\n",
              "<table border=\"1\" class=\"dataframe\">\n",
              "  <thead>\n",
              "    <tr style=\"text-align: right;\">\n",
              "      <th></th>\n",
              "      <th>gender</th>\n",
              "      <th>title</th>\n",
              "      <th>category</th>\n",
              "      <th>post_type</th>\n",
              "    </tr>\n",
              "    <tr>\n",
              "      <th>academics</th>\n",
              "      <th></th>\n",
              "      <th></th>\n",
              "      <th></th>\n",
              "      <th></th>\n",
              "    </tr>\n",
              "  </thead>\n",
              "  <tbody>\n",
              "    <tr>\n",
              "      <th>graduate</th>\n",
              "      <td>382</td>\n",
              "      <td>382</td>\n",
              "      <td>382</td>\n",
              "      <td>382</td>\n",
              "    </tr>\n",
              "    <tr>\n",
              "      <th>undergraduate</th>\n",
              "      <td>1065</td>\n",
              "      <td>1065</td>\n",
              "      <td>1065</td>\n",
              "      <td>1065</td>\n",
              "    </tr>\n",
              "  </tbody>\n",
              "</table>\n",
              "</div>"
            ],
            "text/plain": [
              "               gender  title  category  post_type\n",
              "academics                                        \n",
              "graduate          382    382       382        382\n",
              "undergraduate    1065   1065      1065       1065"
            ]
          },
          "metadata": {
            "tags": []
          },
          "execution_count": 31
        }
      ]
    },
    {
      "cell_type": "code",
      "metadata": {
        "id": "yAzttLt1ZtPK"
      },
      "source": [
        "# Lowering the data Because machine treats the lower case and upper case letters differently.\n",
        "\n",
        "for column in Req_data:\n",
        "  Req_data[column] = Req_data[column].str.lower()"
      ],
      "execution_count": 32,
      "outputs": []
    },
    {
      "cell_type": "code",
      "metadata": {
        "colab": {
          "base_uri": "https://localhost:8080/",
          "height": 204
        },
        "id": "SIqgKNXBaEE-",
        "outputId": "bf2ffbaf-99f7-48b9-e16b-b7eec349a81e"
      },
      "source": [
        "Req_data.head()"
      ],
      "execution_count": 33,
      "outputs": [
        {
          "output_type": "execute_result",
          "data": {
            "text/html": [
              "<div>\n",
              "<style scoped>\n",
              "    .dataframe tbody tr th:only-of-type {\n",
              "        vertical-align: middle;\n",
              "    }\n",
              "\n",
              "    .dataframe tbody tr th {\n",
              "        vertical-align: top;\n",
              "    }\n",
              "\n",
              "    .dataframe thead th {\n",
              "        text-align: right;\n",
              "    }\n",
              "</style>\n",
              "<table border=\"1\" class=\"dataframe\">\n",
              "  <thead>\n",
              "    <tr style=\"text-align: right;\">\n",
              "      <th></th>\n",
              "      <th>gender</th>\n",
              "      <th>academics</th>\n",
              "      <th>title</th>\n",
              "      <th>category</th>\n",
              "      <th>post_type</th>\n",
              "    </tr>\n",
              "  </thead>\n",
              "  <tbody>\n",
              "    <tr>\n",
              "      <th>0</th>\n",
              "      <td>female</td>\n",
              "      <td>undergraduate</td>\n",
              "      <td>save earth.</td>\n",
              "      <td>visual arts|graphic design|artistic design|gra...</td>\n",
              "      <td>artwork</td>\n",
              "    </tr>\n",
              "    <tr>\n",
              "      <th>1</th>\n",
              "      <td>male</td>\n",
              "      <td>undergraduate</td>\n",
              "      <td>save earth.</td>\n",
              "      <td>visual arts|graphic design|artistic design|gra...</td>\n",
              "      <td>artwork</td>\n",
              "    </tr>\n",
              "    <tr>\n",
              "      <th>2</th>\n",
              "      <td>female</td>\n",
              "      <td>graduate</td>\n",
              "      <td>save earth.</td>\n",
              "      <td>visual arts|graphic design|artistic design|gra...</td>\n",
              "      <td>artwork</td>\n",
              "    </tr>\n",
              "    <tr>\n",
              "      <th>3</th>\n",
              "      <td>male</td>\n",
              "      <td>graduate</td>\n",
              "      <td>save earth.</td>\n",
              "      <td>visual arts|graphic design|artistic design|gra...</td>\n",
              "      <td>artwork</td>\n",
              "    </tr>\n",
              "    <tr>\n",
              "      <th>4</th>\n",
              "      <td>male</td>\n",
              "      <td>undergraduate</td>\n",
              "      <td>save earth.</td>\n",
              "      <td>visual arts|graphic design|artistic design|gra...</td>\n",
              "      <td>artwork</td>\n",
              "    </tr>\n",
              "  </tbody>\n",
              "</table>\n",
              "</div>"
            ],
            "text/plain": [
              "   gender  ... post_type\n",
              "0  female  ...   artwork\n",
              "1    male  ...   artwork\n",
              "2  female  ...   artwork\n",
              "3    male  ...   artwork\n",
              "4    male  ...   artwork\n",
              "\n",
              "[5 rows x 5 columns]"
            ]
          },
          "metadata": {
            "tags": []
          },
          "execution_count": 33
        }
      ]
    },
    {
      "cell_type": "markdown",
      "metadata": {
        "id": "RuquH1z0MV0L"
      },
      "source": [
        "# **DATA CLEANING**"
      ]
    },
    {
      "cell_type": "code",
      "metadata": {
        "id": "sLwUp_SGI4oF",
        "colab": {
          "base_uri": "https://localhost:8080/"
        },
        "outputId": "9486a2c1-1557-40de-c030-72ee7259ad2c"
      },
      "source": [
        "import nltk\n",
        "nltk.download('punkt')\n",
        "nltk.download('wordnet')\n",
        "nltk.download('stopwords')"
      ],
      "execution_count": 34,
      "outputs": [
        {
          "output_type": "stream",
          "text": [
            "[nltk_data] Downloading package punkt to /root/nltk_data...\n",
            "[nltk_data]   Unzipping tokenizers/punkt.zip.\n",
            "[nltk_data] Downloading package wordnet to /root/nltk_data...\n",
            "[nltk_data]   Unzipping corpora/wordnet.zip.\n",
            "[nltk_data] Downloading package stopwords to /root/nltk_data...\n",
            "[nltk_data]   Unzipping corpora/stopwords.zip.\n"
          ],
          "name": "stdout"
        },
        {
          "output_type": "execute_result",
          "data": {
            "text/plain": [
              "True"
            ]
          },
          "metadata": {
            "tags": []
          },
          "execution_count": 34
        }
      ]
    },
    {
      "cell_type": "code",
      "metadata": {
        "id": "PpDum8SAI4ln"
      },
      "source": [
        "from nltk.corpus import stopwords\n",
        "\n",
        "import string\n",
        "import re\n",
        "\n",
        "stop_words = stopwords.words(\"english\")\n",
        "\n",
        "def CleanText(x):\n",
        "  x = x.lower()\n",
        "  x = ' '.join([word for word in x.split(' ') if word not in stop_words])\n",
        "  x = x.encode('ascii', 'ignore').decode()\n",
        "  x = re.sub(r'https*\\S+', ' ', x)\n",
        "  x = re.sub(r'@\\S+', ' ', x)\n",
        "  x = re.sub(r'#\\S+', ' ', x)\n",
        "  x = re.sub(r'\\'\\w+', '', x)\n",
        "  x = re.sub('[%s]' % re.escape(string.punctuation), ' ', x)\n",
        "  x = re.sub(r'\\w*\\d+\\w*', '', x)\n",
        "  x = re.sub(r'\\s{2,}', ' ', x)\n",
        "  return x"
      ],
      "execution_count": 35,
      "outputs": []
    },
    {
      "cell_type": "code",
      "metadata": {
        "id": "o6MtCPuSI4tX"
      },
      "source": [
        "Req_data[\"gender\"] = Req_data.gender.apply(CleanText)\n",
        "Req_data[\"academics\"] = Req_data.academics.apply(CleanText)\n",
        "Req_data[\"title\"] = Req_data.title.apply(CleanText)\n",
        "Req_data[\"category\"] = Req_data.category.apply(CleanText)\n",
        "Req_data[\"post_type\"] = Req_data.post_type.apply(CleanText)"
      ],
      "execution_count": 36,
      "outputs": []
    },
    {
      "cell_type": "code",
      "metadata": {
        "colab": {
          "base_uri": "https://localhost:8080/",
          "height": 204
        },
        "id": "AgKJ-fl6I4qt",
        "outputId": "5137a8c4-3a3b-4494-afe8-e6122d04961f"
      },
      "source": [
        "Req_data.head()"
      ],
      "execution_count": 37,
      "outputs": [
        {
          "output_type": "execute_result",
          "data": {
            "text/html": [
              "<div>\n",
              "<style scoped>\n",
              "    .dataframe tbody tr th:only-of-type {\n",
              "        vertical-align: middle;\n",
              "    }\n",
              "\n",
              "    .dataframe tbody tr th {\n",
              "        vertical-align: top;\n",
              "    }\n",
              "\n",
              "    .dataframe thead th {\n",
              "        text-align: right;\n",
              "    }\n",
              "</style>\n",
              "<table border=\"1\" class=\"dataframe\">\n",
              "  <thead>\n",
              "    <tr style=\"text-align: right;\">\n",
              "      <th></th>\n",
              "      <th>gender</th>\n",
              "      <th>academics</th>\n",
              "      <th>title</th>\n",
              "      <th>category</th>\n",
              "      <th>post_type</th>\n",
              "    </tr>\n",
              "  </thead>\n",
              "  <tbody>\n",
              "    <tr>\n",
              "      <th>0</th>\n",
              "      <td>female</td>\n",
              "      <td>undergraduate</td>\n",
              "      <td>save earth</td>\n",
              "      <td>visual arts graphic design artistic design gra...</td>\n",
              "      <td>artwork</td>\n",
              "    </tr>\n",
              "    <tr>\n",
              "      <th>1</th>\n",
              "      <td>male</td>\n",
              "      <td>undergraduate</td>\n",
              "      <td>save earth</td>\n",
              "      <td>visual arts graphic design artistic design gra...</td>\n",
              "      <td>artwork</td>\n",
              "    </tr>\n",
              "    <tr>\n",
              "      <th>2</th>\n",
              "      <td>female</td>\n",
              "      <td>graduate</td>\n",
              "      <td>save earth</td>\n",
              "      <td>visual arts graphic design artistic design gra...</td>\n",
              "      <td>artwork</td>\n",
              "    </tr>\n",
              "    <tr>\n",
              "      <th>3</th>\n",
              "      <td>male</td>\n",
              "      <td>graduate</td>\n",
              "      <td>save earth</td>\n",
              "      <td>visual arts graphic design artistic design gra...</td>\n",
              "      <td>artwork</td>\n",
              "    </tr>\n",
              "    <tr>\n",
              "      <th>4</th>\n",
              "      <td>male</td>\n",
              "      <td>undergraduate</td>\n",
              "      <td>save earth</td>\n",
              "      <td>visual arts graphic design artistic design gra...</td>\n",
              "      <td>artwork</td>\n",
              "    </tr>\n",
              "  </tbody>\n",
              "</table>\n",
              "</div>"
            ],
            "text/plain": [
              "   gender  ... post_type\n",
              "0  female  ...   artwork\n",
              "1    male  ...   artwork\n",
              "2  female  ...   artwork\n",
              "3    male  ...   artwork\n",
              "4    male  ...   artwork\n",
              "\n",
              "[5 rows x 5 columns]"
            ]
          },
          "metadata": {
            "tags": []
          },
          "execution_count": 37
        }
      ]
    },
    {
      "cell_type": "markdown",
      "metadata": {
        "id": "gU7CptTlMhiT"
      },
      "source": [
        "Here the data we have got is clean data that is, the data in the features only contain the alphabet."
      ]
    },
    {
      "cell_type": "markdown",
      "metadata": {
        "id": "sA_eIEaANsxo"
      },
      "source": [
        "#Performing Lemmatization."
      ]
    },
    {
      "cell_type": "code",
      "metadata": {
        "id": "eDCzxUMZI4vk"
      },
      "source": [
        "from nltk.stem import WordNetLemmatizer\n",
        "lemmatizer=WordNetLemmatizer()\n",
        "\n",
        "def Lemmatize(x):\n",
        "  words = nltk.word_tokenize(x)\n",
        "  #print(words)\n",
        "  words = [lemmatizer.lemmatize(word) for word in words if word not in set(stopwords.words('english')) ]\n",
        "  sent = \" \".join(words)\n",
        "  return sent"
      ],
      "execution_count": 38,
      "outputs": []
    },
    {
      "cell_type": "code",
      "metadata": {
        "id": "DZSGWUgMN9TO"
      },
      "source": [
        "Req_data[\"gender\"] = Req_data.gender.apply(Lemmatize)\n",
        "Req_data[\"academics\"] = Req_data.academics.apply(Lemmatize)\n",
        "Req_data[\"title\"] = Req_data.title.apply(Lemmatize)\n",
        "Req_data[\"category\"] = Req_data.category.apply(Lemmatize)\n",
        "Req_data[\"post_type\"] = Req_data.post_type.apply(Lemmatize)"
      ],
      "execution_count": 39,
      "outputs": []
    },
    {
      "cell_type": "code",
      "metadata": {
        "colab": {
          "base_uri": "https://localhost:8080/",
          "height": 204
        },
        "id": "qYqInl1xI42A",
        "outputId": "b71dbd09-a627-49ca-96b3-897cd7333f73"
      },
      "source": [
        "Req_data.head()"
      ],
      "execution_count": 40,
      "outputs": [
        {
          "output_type": "execute_result",
          "data": {
            "text/html": [
              "<div>\n",
              "<style scoped>\n",
              "    .dataframe tbody tr th:only-of-type {\n",
              "        vertical-align: middle;\n",
              "    }\n",
              "\n",
              "    .dataframe tbody tr th {\n",
              "        vertical-align: top;\n",
              "    }\n",
              "\n",
              "    .dataframe thead th {\n",
              "        text-align: right;\n",
              "    }\n",
              "</style>\n",
              "<table border=\"1\" class=\"dataframe\">\n",
              "  <thead>\n",
              "    <tr style=\"text-align: right;\">\n",
              "      <th></th>\n",
              "      <th>gender</th>\n",
              "      <th>academics</th>\n",
              "      <th>title</th>\n",
              "      <th>category</th>\n",
              "      <th>post_type</th>\n",
              "    </tr>\n",
              "  </thead>\n",
              "  <tbody>\n",
              "    <tr>\n",
              "      <th>0</th>\n",
              "      <td>female</td>\n",
              "      <td>undergraduate</td>\n",
              "      <td>save earth</td>\n",
              "      <td>visual art graphic design artistic design grap...</td>\n",
              "      <td>artwork</td>\n",
              "    </tr>\n",
              "    <tr>\n",
              "      <th>1</th>\n",
              "      <td>male</td>\n",
              "      <td>undergraduate</td>\n",
              "      <td>save earth</td>\n",
              "      <td>visual art graphic design artistic design grap...</td>\n",
              "      <td>artwork</td>\n",
              "    </tr>\n",
              "    <tr>\n",
              "      <th>2</th>\n",
              "      <td>female</td>\n",
              "      <td>graduate</td>\n",
              "      <td>save earth</td>\n",
              "      <td>visual art graphic design artistic design grap...</td>\n",
              "      <td>artwork</td>\n",
              "    </tr>\n",
              "    <tr>\n",
              "      <th>3</th>\n",
              "      <td>male</td>\n",
              "      <td>graduate</td>\n",
              "      <td>save earth</td>\n",
              "      <td>visual art graphic design artistic design grap...</td>\n",
              "      <td>artwork</td>\n",
              "    </tr>\n",
              "    <tr>\n",
              "      <th>4</th>\n",
              "      <td>male</td>\n",
              "      <td>undergraduate</td>\n",
              "      <td>save earth</td>\n",
              "      <td>visual art graphic design artistic design grap...</td>\n",
              "      <td>artwork</td>\n",
              "    </tr>\n",
              "  </tbody>\n",
              "</table>\n",
              "</div>"
            ],
            "text/plain": [
              "   gender  ... post_type\n",
              "0  female  ...   artwork\n",
              "1    male  ...   artwork\n",
              "2  female  ...   artwork\n",
              "3    male  ...   artwork\n",
              "4    male  ...   artwork\n",
              "\n",
              "[5 rows x 5 columns]"
            ]
          },
          "metadata": {
            "tags": []
          },
          "execution_count": 40
        }
      ]
    },
    {
      "cell_type": "code",
      "metadata": {
        "id": "9TSNkHiiTQ0g"
      },
      "source": [
        "Req_data = Req_data.drop([\"gender\",\"academics\"],axis=1)\n",
        "Req_data.to_csv(\"Req_Data.csv\")"
      ],
      "execution_count": 41,
      "outputs": []
    },
    {
      "cell_type": "code",
      "metadata": {
        "id": "JA5pQKMozJ95"
      },
      "source": [
        "corpus= []\n",
        "\n",
        "for sents in Req_data[\"category\"]:\n",
        "  sents = nltk.word_tokenize(sents)\n",
        "  if sents not in corpus:\n",
        "    corpus.extend(sents)\n",
        "\n",
        "for sents in Req_data[\"title\"]:\n",
        "  sents = nltk.word_tokenize(sents)\n",
        "  if sents not in corpus:\n",
        "    corpus.extend(sents)\n",
        "    \n",
        "corpus = set(corpus)\n",
        "corpus = list(corpus)"
      ],
      "execution_count": 42,
      "outputs": []
    },
    {
      "cell_type": "code",
      "metadata": {
        "id": "9WdXI9sIPgJr"
      },
      "source": [
        "import nltk \n",
        "from nltk.corpus import wordnet \n",
        "\n",
        "def recommend(a):\n",
        "  def get_sim_words(w1):\n",
        "    sim_words = []\n",
        "    req_words = []\n",
        "    for i in corpus:\n",
        "      try:\n",
        "        w2 = i+\".n.01\"\n",
        "        w2 = wordnet.synset(w2)\n",
        "        if w1.wup_similarity(w2) > 0.8:\n",
        "          req_words.append(w2)\n",
        "      except:\n",
        "        try:\n",
        "          w2 = i+\".v.01\"\n",
        "          w2 = wordnet.synset(w2)\n",
        "          if w1.wup_similarity(w2) > 0.8:\n",
        "            req_words.append(w2)\n",
        "        except:\n",
        "          pass\n",
        "\n",
        "    for i in req_words:\n",
        "      for j in i.lemmas():\n",
        "        sim_words.append(j.name())\n",
        "\n",
        "    return sim_words\n",
        "\n",
        "  w1 = a\n",
        "\n",
        "  try:\n",
        "    try:  \n",
        "      w1 = w1+\".n.01\"\n",
        "      w1 = wordnet.synset(w1)\n",
        "      sim_words = get_sim_words(w1)\n",
        "    except:\n",
        "      w1 = w1+\".v.01\"\n",
        "      w1 = wordnet.synset(w1)\n",
        "      sim_words = get_sim_words(w1)\n",
        "  except:\n",
        "    words = w1.split(\".\")\n",
        "    sim_words = [words[0].lower()]\n",
        "\n",
        "  frames = []\n",
        "  for i in sim_words:\n",
        "    frames.append(Req_data[Req_data.apply(lambda row: row.astype(str).str.contains(i).any(), axis=1)])\n",
        "\n",
        "  result = pd.concat(frames)\n",
        "\n",
        "  return result.sample(frac = 1)"
      ],
      "execution_count": 49,
      "outputs": []
    },
    {
      "cell_type": "code",
      "metadata": {
        "colab": {
          "base_uri": "https://localhost:8080/",
          "height": 436
        },
        "id": "u39KgrpeUYds",
        "outputId": "9fe596e4-4b78-4d80-f4d6-8d083e89ee7a"
      },
      "source": [
        "a = input(\"Enter a word for Recommendation: \")\n",
        "recommend(a)\n",
        "\n",
        "#This will return all the recommended posts by taking the meaning of the words."
      ],
      "execution_count": 50,
      "outputs": [
        {
          "output_type": "stream",
          "text": [
            "Enter a word for Recommendation: learn\n"
          ],
          "name": "stdout"
        },
        {
          "output_type": "execute_result",
          "data": {
            "text/html": [
              "<div>\n",
              "<style scoped>\n",
              "    .dataframe tbody tr th:only-of-type {\n",
              "        vertical-align: middle;\n",
              "    }\n",
              "\n",
              "    .dataframe tbody tr th {\n",
              "        vertical-align: top;\n",
              "    }\n",
              "\n",
              "    .dataframe thead th {\n",
              "        text-align: right;\n",
              "    }\n",
              "</style>\n",
              "<table border=\"1\" class=\"dataframe\">\n",
              "  <thead>\n",
              "    <tr style=\"text-align: right;\">\n",
              "      <th></th>\n",
              "      <th>title</th>\n",
              "      <th>category</th>\n",
              "      <th>post_type</th>\n",
              "    </tr>\n",
              "  </thead>\n",
              "  <tbody>\n",
              "    <tr>\n",
              "      <th>355</th>\n",
              "      <td>gan part</td>\n",
              "      <td>computer technology machine learning</td>\n",
              "      <td>blog</td>\n",
              "    </tr>\n",
              "    <tr>\n",
              "      <th>867</th>\n",
              "      <td>ml ai</td>\n",
              "      <td>artificial intelligence machine learning infor...</td>\n",
              "      <td>blog</td>\n",
              "    </tr>\n",
              "    <tr>\n",
              "      <th>353</th>\n",
              "      <td>gan part</td>\n",
              "      <td>computer technology machine learning</td>\n",
              "      <td>blog</td>\n",
              "    </tr>\n",
              "    <tr>\n",
              "      <th>354</th>\n",
              "      <td>gan part</td>\n",
              "      <td>computer technology machine learning</td>\n",
              "      <td>blog</td>\n",
              "    </tr>\n",
              "    <tr>\n",
              "      <th>1031</th>\n",
              "      <td>always right</td>\n",
              "      <td>learning</td>\n",
              "      <td>skill</td>\n",
              "    </tr>\n",
              "    <tr>\n",
              "      <th>...</th>\n",
              "      <td>...</td>\n",
              "      <td>...</td>\n",
              "      <td>...</td>\n",
              "    </tr>\n",
              "    <tr>\n",
              "      <th>347</th>\n",
              "      <td>recommend system machine learning</td>\n",
              "      <td>computer technology machine learning</td>\n",
              "      <td>blog</td>\n",
              "    </tr>\n",
              "    <tr>\n",
              "      <th>255</th>\n",
              "      <td>face recognition using transfer learning</td>\n",
              "      <td>science technology</td>\n",
              "      <td>skill</td>\n",
              "    </tr>\n",
              "    <tr>\n",
              "      <th>1030</th>\n",
              "      <td>always right</td>\n",
              "      <td>learning</td>\n",
              "      <td>skill</td>\n",
              "    </tr>\n",
              "    <tr>\n",
              "      <th>549</th>\n",
              "      <td>keen learner</td>\n",
              "      <td>photography</td>\n",
              "      <td>skill</td>\n",
              "    </tr>\n",
              "    <tr>\n",
              "      <th>348</th>\n",
              "      <td>recommend system machine learning</td>\n",
              "      <td>computer technology machine learning</td>\n",
              "      <td>blog</td>\n",
              "    </tr>\n",
              "  </tbody>\n",
              "</table>\n",
              "<p>74 rows × 3 columns</p>\n",
              "</div>"
            ],
            "text/plain": [
              "                                         title  ... post_type\n",
              "355                                   gan part  ...      blog\n",
              "867                                      ml ai  ...      blog\n",
              "353                                   gan part  ...      blog\n",
              "354                                   gan part  ...      blog\n",
              "1031                              always right  ...     skill\n",
              "...                                        ...  ...       ...\n",
              "347          recommend system machine learning  ...      blog\n",
              "255   face recognition using transfer learning  ...     skill\n",
              "1030                              always right  ...     skill\n",
              "549                               keen learner  ...     skill\n",
              "348          recommend system machine learning  ...      blog\n",
              "\n",
              "[74 rows x 3 columns]"
            ]
          },
          "metadata": {
            "tags": []
          },
          "execution_count": 50
        }
      ]
    },
    {
      "cell_type": "code",
      "metadata": {
        "id": "6rHJd28EDnJ1"
      },
      "source": [
        ""
      ],
      "execution_count": null,
      "outputs": []
    }
  ]
}